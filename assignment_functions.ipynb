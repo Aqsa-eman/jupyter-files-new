{
 "cells": [
  {
   "cell_type": "code",
   "execution_count": 9,
   "id": "c2146f88",
   "metadata": {},
   "outputs": [
    {
     "name": "stdout",
     "output_type": "stream",
     "text": [
      "plz enter any number6\n",
      "the number is even\n"
     ]
    }
   ],
   "source": [
    "number = int(input('plz enter any number'))\n",
    "if(number % 2 == 0):\n",
    "    print('the number is even')\n",
    "else:\n",
    "    print('the number is odd')"
   ]
  },
  {
   "cell_type": "code",
   "execution_count": 10,
   "id": "9c0d4a5c",
   "metadata": {},
   "outputs": [],
   "source": [
    "def even_odd():\n",
    "    number = int(input('plz enter any number'))\n",
    "    if(number % 2 == 0):\n",
    "        print('the number is even')\n",
    "    else:\n",
    "        print('the number is odd')\n"
   ]
  },
  {
   "cell_type": "code",
   "execution_count": 11,
   "id": "1f785012",
   "metadata": {},
   "outputs": [
    {
     "name": "stdout",
     "output_type": "stream",
     "text": [
      "plz enter any number66\n",
      "the number is even\n"
     ]
    }
   ],
   "source": [
    "even_odd()"
   ]
  },
  {
   "cell_type": "code",
   "execution_count": 36,
   "id": "77a76d40",
   "metadata": {},
   "outputs": [],
   "source": [
    "def input_num():\n",
    "    number = int(input('plz enter any number:'))\n",
    "    return number\n",
    "    "
   ]
  },
  {
   "cell_type": "code",
   "execution_count": 37,
   "id": "d0ff42b2",
   "metadata": {},
   "outputs": [],
   "source": [
    "def check_num(number):\n",
    "    if(number%2 == 0):\n",
    "        print('the number is even')\n",
    "    else:\n",
    "        print('the number is odd')\n",
    "\n",
    "    "
   ]
  },
  {
   "cell_type": "code",
   "execution_count": 38,
   "id": "97c212e0",
   "metadata": {},
   "outputs": [
    {
     "name": "stdout",
     "output_type": "stream",
     "text": [
      "plz enter any number:45\n",
      "the number is odd\n"
     ]
    }
   ],
   "source": [
    "number= input_num()\n",
    "check_num(number)"
   ]
  },
  {
   "cell_type": "code",
   "execution_count": null,
   "id": "1cfe29a6",
   "metadata": {},
   "outputs": [],
   "source": []
  }
 ],
 "metadata": {
  "kernelspec": {
   "display_name": "Python 3 (ipykernel)",
   "language": "python",
   "name": "python3"
  },
  "language_info": {
   "codemirror_mode": {
    "name": "ipython",
    "version": 3
   },
   "file_extension": ".py",
   "mimetype": "text/x-python",
   "name": "python",
   "nbconvert_exporter": "python",
   "pygments_lexer": "ipython3",
   "version": "3.11.3"
  }
 },
 "nbformat": 4,
 "nbformat_minor": 5
}
