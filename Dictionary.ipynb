{
 "cells": [
  {
   "cell_type": "code",
   "execution_count": 3,
   "id": "8e0fe18a",
   "metadata": {},
   "outputs": [],
   "source": [
    "# we use curly braces in dictionary function and show output we use straight bracket []\n",
    "student1 = {\"name\":\"aqsa\" ,\"cnic\":33100003866789 ,\"class\":\"bscs\"} #left side colon is called key and right side is called value\n"
   ]
  },
  {
   "cell_type": "code",
   "execution_count": 12,
   "id": "879d8b4d",
   "metadata": {},
   "outputs": [
    {
     "data": {
      "text/plain": [
       "'aqsa'"
      ]
     },
     "execution_count": 12,
     "metadata": {},
     "output_type": "execute_result"
    }
   ],
   "source": [
    "student1[\"name\"]"
   ]
  },
  {
   "cell_type": "code",
   "execution_count": 13,
   "id": "51d82405",
   "metadata": {},
   "outputs": [
    {
     "data": {
      "text/plain": [
       "3"
      ]
     },
     "execution_count": 13,
     "metadata": {},
     "output_type": "execute_result"
    }
   ],
   "source": [
    "len(student1)"
   ]
  },
  {
   "cell_type": "code",
   "execution_count": 14,
   "id": "2bd3b07e",
   "metadata": {},
   "outputs": [
    {
     "data": {
      "text/plain": [
       "dict"
      ]
     },
     "execution_count": 14,
     "metadata": {},
     "output_type": "execute_result"
    }
   ],
   "source": [
    "type(student1)"
   ]
  },
  {
   "cell_type": "code",
   "execution_count": 15,
   "id": "27c8bbcf",
   "metadata": {},
   "outputs": [
    {
     "name": "stdout",
     "output_type": "stream",
     "text": [
      "name\n",
      "cnic\n",
      "class\n"
     ]
    }
   ],
   "source": [
    "for n in student1.keys():\n",
    "    print(n)"
   ]
  },
  {
   "cell_type": "code",
   "execution_count": 16,
   "id": "cc2c0053",
   "metadata": {},
   "outputs": [
    {
     "name": "stdout",
     "output_type": "stream",
     "text": [
      "aqsa\n",
      "33100003866789\n",
      "bscs\n"
     ]
    }
   ],
   "source": [
    "for n in student1.values():\n",
    "    print(n)"
   ]
  },
  {
   "cell_type": "code",
   "execution_count": 17,
   "id": "a39f0264",
   "metadata": {},
   "outputs": [],
   "source": []
  },
  {
   "cell_type": "code",
   "execution_count": 24,
   "id": "932d111f",
   "metadata": {},
   "outputs": [],
   "source": [
    "student1[\"city\"] = \"FSD\" #inserting a key and values in dictionary"
   ]
  },
  {
   "cell_type": "code",
   "execution_count": 25,
   "id": "ddc2fa69",
   "metadata": {},
   "outputs": [
    {
     "data": {
      "text/plain": [
       "{'name': 'aqsa', 'cnic': 33100003866789, 'class': 'bscs', 'city': 'FSD'}"
      ]
     },
     "execution_count": 25,
     "metadata": {},
     "output_type": "execute_result"
    }
   ],
   "source": [
    "student1"
   ]
  },
  {
   "cell_type": "code",
   "execution_count": null,
   "id": "b9e33350",
   "metadata": {},
   "outputs": [],
   "source": [
    "\n"
   ]
  },
  {
   "cell_type": "code",
   "execution_count": 26,
   "id": "ec3b75bc",
   "metadata": {},
   "outputs": [
    {
     "name": "stdout",
     "output_type": "stream",
     "text": [
      "please enter value for key:\n",
      "please enter a value:\n"
     ]
    }
   ],
   "source": [
    "color = dict()\n",
    "\n",
    "k = input('please enter value for key:')\n",
    "v = input('please enter a value:')\n",
    "color[k] = v"
   ]
  },
  {
   "cell_type": "code",
   "execution_count": null,
   "id": "adadb7e2",
   "metadata": {},
   "outputs": [],
   "source": [
    "color = dict()\n",
    "for i in range(5):\n",
    "    k = input('please enter value for key:')\n",
    "    v = input('please enter a value:')\n",
    "    color[k] = v\n",
    "color    \n",
    "    "
   ]
  },
  {
   "cell_type": "code",
   "execution_count": null,
   "id": "c2894cf6",
   "metadata": {},
   "outputs": [],
   "source": [
    "student1.clear() #clear all elements od dictionary"
   ]
  },
  {
   "cell_type": "code",
   "execution_count": null,
   "id": "6191482b",
   "metadata": {},
   "outputs": [],
   "source": [
    "student1"
   ]
  },
  {
   "cell_type": "code",
   "execution_count": 28,
   "id": "26adfc2d",
   "metadata": {},
   "outputs": [],
   "source": [
    "item = {'name': 'aqsa', 'cnic': 33100003866789, 'class': 'bscs', 'city': 'FSD'}\n"
   ]
  },
  {
   "cell_type": "code",
   "execution_count": 31,
   "id": "9bbe8348",
   "metadata": {},
   "outputs": [],
   "source": [
    "item2 = item.copy()#copy function add new dictionary "
   ]
  },
  {
   "cell_type": "code",
   "execution_count": 30,
   "id": "8fe8992f",
   "metadata": {},
   "outputs": [
    {
     "data": {
      "text/plain": [
       "{'name': 'aqsa', 'cnic': 33100003866789, 'class': 'bscs', 'city': 'FSD'}"
      ]
     },
     "execution_count": 30,
     "metadata": {},
     "output_type": "execute_result"
    }
   ],
   "source": [
    "item2"
   ]
  },
  {
   "cell_type": "code",
   "execution_count": null,
   "id": "a0e6b540",
   "metadata": {},
   "outputs": [],
   "source": []
  }
 ],
 "metadata": {
  "kernelspec": {
   "display_name": "Python 3 (ipykernel)",
   "language": "python",
   "name": "python3"
  },
  "language_info": {
   "codemirror_mode": {
    "name": "ipython",
    "version": 3
   },
   "file_extension": ".py",
   "mimetype": "text/x-python",
   "name": "python",
   "nbconvert_exporter": "python",
   "pygments_lexer": "ipython3",
   "version": "3.11.3"
  }
 },
 "nbformat": 4,
 "nbformat_minor": 5
}
