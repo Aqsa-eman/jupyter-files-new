{
 "cells": [
  {
   "cell_type": "code",
   "execution_count": 7,
   "id": "221ebbc6",
   "metadata": {},
   "outputs": [],
   "source": [
    "a = [1,2,3,4,5,6] #list is changeable #mutable"
   ]
  },
  {
   "cell_type": "code",
   "execution_count": 8,
   "id": "185173af",
   "metadata": {},
   "outputs": [],
   "source": [
    "a[0] = \"7\""
   ]
  },
  {
   "cell_type": "code",
   "execution_count": 9,
   "id": "604ca0bb",
   "metadata": {},
   "outputs": [
    {
     "data": {
      "text/plain": [
       "['7', 2, 3, 4, 5, 6]"
      ]
     },
     "execution_count": 9,
     "metadata": {},
     "output_type": "execute_result"
    }
   ],
   "source": [
    "a"
   ]
  },
  {
   "cell_type": "code",
   "execution_count": 10,
   "id": "7939442f",
   "metadata": {},
   "outputs": [],
   "source": [
    "b =(1,2,3,4,5,6) #tuple is not changeable #immuteable"
   ]
  },
  {
   "cell_type": "code",
   "execution_count": 11,
   "id": "487f602d",
   "metadata": {},
   "outputs": [
    {
     "ename": "TypeError",
     "evalue": "'tuple' object does not support item assignment",
     "output_type": "error",
     "traceback": [
      "\u001b[1;31m---------------------------------------------------------------------------\u001b[0m",
      "\u001b[1;31mTypeError\u001b[0m                                 Traceback (most recent call last)",
      "Cell \u001b[1;32mIn[11], line 1\u001b[0m\n\u001b[1;32m----> 1\u001b[0m b[\u001b[38;5;241m0\u001b[39m] \u001b[38;5;241m=\u001b[39m \u001b[38;5;124m'\u001b[39m\u001b[38;5;124m9\u001b[39m\u001b[38;5;124m'\u001b[39m\n",
      "\u001b[1;31mTypeError\u001b[0m: 'tuple' object does not support item assignment"
     ]
    }
   ],
   "source": [
    "b[0] = '9'"
   ]
  },
  {
   "cell_type": "code",
   "execution_count": 13,
   "id": "35ad15f2",
   "metadata": {},
   "outputs": [],
   "source": [
    "t = (1,2,3,4)"
   ]
  },
  {
   "cell_type": "code",
   "execution_count": 14,
   "id": "50275f11",
   "metadata": {},
   "outputs": [
    {
     "data": {
      "text/plain": [
       "(1, 2, 3, 4)"
      ]
     },
     "execution_count": 14,
     "metadata": {},
     "output_type": "execute_result"
    }
   ],
   "source": [
    "t"
   ]
  },
  {
   "cell_type": "code",
   "execution_count": 15,
   "id": "40cd8fc0",
   "metadata": {},
   "outputs": [
    {
     "data": {
      "text/plain": [
       "tuple"
      ]
     },
     "execution_count": 15,
     "metadata": {},
     "output_type": "execute_result"
    }
   ],
   "source": [
    "type(t)"
   ]
  },
  {
   "cell_type": "code",
   "execution_count": 16,
   "id": "2f8b3cb6",
   "metadata": {},
   "outputs": [
    {
     "data": {
      "text/plain": [
       "4"
      ]
     },
     "execution_count": 16,
     "metadata": {},
     "output_type": "execute_result"
    }
   ],
   "source": [
    "t[3]"
   ]
  },
  {
   "cell_type": "code",
   "execution_count": 17,
   "id": "e0163e2c",
   "metadata": {},
   "outputs": [
    {
     "name": "stdout",
     "output_type": "stream",
     "text": [
      "1\n",
      "2\n",
      "3\n",
      "4\n"
     ]
    }
   ],
   "source": [
    "for i in t:\n",
    "    print(i)"
   ]
  },
  {
   "cell_type": "code",
   "execution_count": 20,
   "id": "0b6798b3",
   "metadata": {},
   "outputs": [],
   "source": [
    "def create_tuple():\n",
    "    fruits = (\"banana\",\"mango\",\"gauavas\") #local variable beacuse this is write in def function\n",
    "    for f in fruits:\n",
    "        print(f)"
   ]
  },
  {
   "cell_type": "code",
   "execution_count": 21,
   "id": "6099175d",
   "metadata": {},
   "outputs": [
    {
     "name": "stdout",
     "output_type": "stream",
     "text": [
      "banana\n",
      "mango\n",
      "gauavas\n"
     ]
    }
   ],
   "source": [
    "create_tuple()"
   ]
  },
  {
   "cell_type": "code",
   "execution_count": 24,
   "id": "4aa0c9e8",
   "metadata": {},
   "outputs": [],
   "source": [
    " fruits = (\"banana\",\"mango\",\"gauavas\") #golbal varialbe because this is write in outside the def function"
   ]
  },
  {
   "cell_type": "code",
   "execution_count": 25,
   "id": "4acaa3f9",
   "metadata": {},
   "outputs": [
    {
     "name": "stdout",
     "output_type": "stream",
     "text": [
      "yes\n"
     ]
    }
   ],
   "source": [
    "if \"banana\" in fruits:\n",
    "    print('yes')"
   ]
  },
  {
   "cell_type": "code",
   "execution_count": 26,
   "id": "0da9d202",
   "metadata": {},
   "outputs": [
    {
     "data": {
      "text/plain": [
       "1"
      ]
     },
     "execution_count": 26,
     "metadata": {},
     "output_type": "execute_result"
    }
   ],
   "source": [
    "fruits.count(\"mango\") #k ya word list ma ya tuple ma kitni bar aya h"
   ]
  },
  {
   "cell_type": "code",
   "execution_count": 27,
   "id": "1a2b32bb",
   "metadata": {},
   "outputs": [
    {
     "data": {
      "text/plain": [
       "1"
      ]
     },
     "execution_count": 27,
     "metadata": {},
     "output_type": "execute_result"
    }
   ],
   "source": [
    "fruits.index(\"mango\")"
   ]
  },
  {
   "cell_type": "code",
   "execution_count": 28,
   "id": "10b7fcab",
   "metadata": {},
   "outputs": [],
   "source": [
    "d = {\"name\":\"aqsa\",\n",
    "    \"roll no\": 3210}\n",
    "e =(\"aqsa\",\"bscs\",3210)\n",
    "f = ['aqsa','bscs',3210]"
   ]
  },
  {
   "cell_type": "code",
   "execution_count": 29,
   "id": "70b5e72c",
   "metadata": {},
   "outputs": [
    {
     "name": "stdout",
     "output_type": "stream",
     "text": [
      "{'name': 'aqsa', 'roll no': 3210}\n",
      "('aqsa', 'bscs', 3210)\n",
      "['aqsa', 'bscs', 3210]\n"
     ]
    }
   ],
   "source": [
    "print(d)\n",
    "print(e)\n",
    "print(f)"
   ]
  },
  {
   "cell_type": "code",
   "execution_count": 30,
   "id": "56aea4e1",
   "metadata": {},
   "outputs": [
    {
     "ename": "KeyError",
     "evalue": "0",
     "output_type": "error",
     "traceback": [
      "\u001b[1;31m---------------------------------------------------------------------------\u001b[0m",
      "\u001b[1;31mKeyError\u001b[0m                                  Traceback (most recent call last)",
      "Cell \u001b[1;32mIn[30], line 1\u001b[0m\n\u001b[1;32m----> 1\u001b[0m d[\u001b[38;5;241m0\u001b[39m]\n",
      "\u001b[1;31mKeyError\u001b[0m: 0"
     ]
    }
   ],
   "source": [
    "d"
   ]
  },
  {
   "cell_type": "code",
   "execution_count": null,
   "id": "155951b9",
   "metadata": {},
   "outputs": [],
   "source": []
  }
 ],
 "metadata": {
  "kernelspec": {
   "display_name": "Python 3 (ipykernel)",
   "language": "python",
   "name": "python3"
  },
  "language_info": {
   "codemirror_mode": {
    "name": "ipython",
    "version": 3
   },
   "file_extension": ".py",
   "mimetype": "text/x-python",
   "name": "python",
   "nbconvert_exporter": "python",
   "pygments_lexer": "ipython3",
   "version": "3.11.3"
  }
 },
 "nbformat": 4,
 "nbformat_minor": 5
}
