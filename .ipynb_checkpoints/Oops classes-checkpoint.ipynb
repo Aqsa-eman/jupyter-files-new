{
 "cells": [
  {
   "cell_type": "code",
   "execution_count": 21,
   "id": "e1464210",
   "metadata": {},
   "outputs": [],
   "source": [
    "# create class\n",
    "class student:\n",
    "    def__init__(self,n,a):             #constructor\n",
    "        self.name=n\n",
    "        self.age=a                      #constructor yaha tk h \n",
    "    def get_age(self):\n",
    "        return self.age\n",
    "        "
   ]
  },
  {
   "cell_type": "code",
   "execution_count": 22,
   "id": "4c131338",
   "metadata": {},
   "outputs": [],
   "source": [
    "a = student('aqsa',21)"
   ]
  },
  {
   "cell_type": "code",
   "execution_count": 23,
   "id": "e3fb6abf",
   "metadata": {},
   "outputs": [
    {
     "data": {
      "text/plain": [
       "21"
      ]
     },
     "execution_count": 23,
     "metadata": {},
     "output_type": "execute_result"
    }
   ],
   "source": [
    "a.get_age()"
   ]
  },
  {
   "cell_type": "code",
   "execution_count": 24,
   "id": "7ceeb009",
   "metadata": {},
   "outputs": [
    {
     "data": {
      "text/plain": [
       "21"
      ]
     },
     "execution_count": 24,
     "metadata": {},
     "output_type": "execute_result"
    }
   ],
   "source": [
    "a.age"
   ]
  },
  {
   "cell_type": "code",
   "execution_count": 23,
   "id": "b6a272a4",
   "metadata": {},
   "outputs": [],
   "source": [
    "class car:\n",
    "    def __init__(self,m,c):\n",
    "        self.model=m\n",
    "        self.colour=c\n",
    "        pass\n",
    "    def check_values(self):\n",
    "        if(self.colour== \"red\"):\n",
    "            print('stop')\n",
    "        elif(self.colour==\"black\"):\n",
    "            print('driffting')\n",
    "        elif(self.colour==\"white\"):\n",
    "            print('running')\n",
    "        else:\n",
    "            print('something went wrong')\n",
    "            \n",
    "            "
   ]
  },
  {
   "cell_type": "code",
   "execution_count": 24,
   "id": "d6809ff3",
   "metadata": {},
   "outputs": [],
   "source": [
    "olor =car(\"honda city\",\"red\")"
   ]
  },
  {
   "cell_type": "code",
   "execution_count": 25,
   "id": "d63c3641",
   "metadata": {},
   "outputs": [
    {
     "name": "stdout",
     "output_type": "stream",
     "text": [
      "stop\n"
     ]
    }
   ],
   "source": [
    "color.check_values()"
   ]
  },
  {
   "cell_type": "code",
   "execution_count": 26,
   "id": "719195a3",
   "metadata": {},
   "outputs": [],
   "source": [
    "colour = car(\"grande\",\"black\")\n"
   ]
  },
  {
   "cell_type": "code",
   "execution_count": 27,
   "id": "b2427126",
   "metadata": {},
   "outputs": [],
   "source": [
    "grande = car(\"grande\",\"black\")"
   ]
  },
  {
   "cell_type": "code",
   "execution_count": 28,
   "id": "7f0684f6",
   "metadata": {},
   "outputs": [
    {
     "name": "stdout",
     "output_type": "stream",
     "text": [
      "driffting\n"
     ]
    }
   ],
   "source": [
    "grande.check_values()"
   ]
  },
  {
   "cell_type": "code",
   "execution_count": 30,
   "id": "2282891e",
   "metadata": {},
   "outputs": [],
   "source": [
    "civic = car(\"civic\",\"white\")"
   ]
  },
  {
   "cell_type": "code",
   "execution_count": 31,
   "id": "8829d321",
   "metadata": {},
   "outputs": [
    {
     "name": "stdout",
     "output_type": "stream",
     "text": [
      "running\n"
     ]
    }
   ],
   "source": [
    "civic.check_values()"
   ]
  },
  {
   "cell_type": "code",
   "execution_count": 32,
   "id": "3297ab86",
   "metadata": {},
   "outputs": [],
   "source": [
    "coure = car(\"coure\",\"grey\")"
   ]
  },
  {
   "cell_type": "code",
   "execution_count": 33,
   "id": "a643c158",
   "metadata": {},
   "outputs": [
    {
     "name": "stdout",
     "output_type": "stream",
     "text": [
      "something went wrong\n"
     ]
    }
   ],
   "source": [
    "coure.check_values()"
   ]
  },
  {
   "cell_type": "code",
   "execution_count": null,
   "id": "cd337c53",
   "metadata": {},
   "outputs": [],
   "source": []
  }
 ],
 "metadata": {
  "kernelspec": {
   "display_name": "Python 3 (ipykernel)",
   "language": "python",
   "name": "python3"
  },
  "language_info": {
   "codemirror_mode": {
    "name": "ipython",
    "version": 3
   },
   "file_extension": ".py",
   "mimetype": "text/x-python",
   "name": "python",
   "nbconvert_exporter": "python",
   "pygments_lexer": "ipython3",
   "version": "3.11.3"
  }
 },
 "nbformat": 4,
 "nbformat_minor": 5
}
