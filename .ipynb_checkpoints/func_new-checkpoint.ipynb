{
 "cells": [
  {
   "cell_type": "code",
   "execution_count": 1,
   "id": "7889aa60",
   "metadata": {},
   "outputs": [],
   "source": [
    "def my_func():\n",
    "    print('jo mrzi kro ya humra apna funct hai')"
   ]
  },
  {
   "cell_type": "code",
   "execution_count": 2,
   "id": "4efabd83",
   "metadata": {},
   "outputs": [
    {
     "name": "stdout",
     "output_type": "stream",
     "text": [
      "jo mrzi kro ya humra apna funct hai\n"
     ]
    }
   ],
   "source": [
    "my_func()"
   ]
  },
  {
   "cell_type": "code",
   "execution_count": null,
   "id": "23c2c87f",
   "metadata": {},
   "outputs": [],
   "source": []
  }
 ],
 "metadata": {
  "kernelspec": {
   "display_name": "Python 3 (ipykernel)",
   "language": "python",
   "name": "python3"
  },
  "language_info": {
   "codemirror_mode": {
    "name": "ipython",
    "version": 3
   },
   "file_extension": ".py",
   "mimetype": "text/x-python",
   "name": "python",
   "nbconvert_exporter": "python",
   "pygments_lexer": "ipython3",
   "version": "3.11.3"
  }
 },
 "nbformat": 4,
 "nbformat_minor": 5
}
