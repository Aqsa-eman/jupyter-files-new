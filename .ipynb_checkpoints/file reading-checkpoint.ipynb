{
 "cells": [
  {
   "cell_type": "code",
   "execution_count": 10,
   "id": "ce270e5e",
   "metadata": {},
   "outputs": [],
   "source": [
    "myfile = open(\"dexplorex.txt\",\"w\") #file reading"
   ]
  },
  {
   "cell_type": "code",
   "execution_count": 11,
   "id": "e6aafaa7",
   "metadata": {},
   "outputs": [],
   "source": [
    "myfile.write('helo im aqsa eman im a new user')\n",
    "myfile.close()"
   ]
  },
  {
   "cell_type": "code",
   "execution_count": 14,
   "id": "5dffda36",
   "metadata": {},
   "outputs": [
    {
     "data": {
      "text/plain": [
       "'helo im aqsa eman im a new user'"
      ]
     },
     "execution_count": 14,
     "metadata": {},
     "output_type": "execute_result"
    }
   ],
   "source": [
    "other = open('dexplorex.txt','r')\n",
    "a = other.read()\n",
    "a"
   ]
  },
  {
   "cell_type": "code",
   "execution_count": null,
   "id": "9c6e912e",
   "metadata": {},
   "outputs": [],
   "source": []
  },
  {
   "cell_type": "code",
   "execution_count": 15,
   "id": "a5d47c2f",
   "metadata": {},
   "outputs": [],
   "source": [
    "contex = open(\"jupyt.txt\",'w')"
   ]
  },
  {
   "cell_type": "code",
   "execution_count": null,
   "id": "64b7fe9f",
   "metadata": {},
   "outputs": [],
   "source": [
    "\n",
    "contex.write(\"Hello python!\\n\")\n",
    "contex.write(\"this is a simple text writing! \\n\")\n",
    "contex.write(\"i am a python programmer.\")\n",
    "contex.close()"
   ]
  },
  {
   "cell_type": "code",
   "execution_count": 11,
   "id": "11f59f03",
   "metadata": {},
   "outputs": [],
   "source": [
    "#user_input = input(\"please enter a text:\")"
   ]
  },
  {
   "cell_type": "code",
   "execution_count": 22,
   "id": "662451d9",
   "metadata": {
    "scrolled": true
   },
   "outputs": [
    {
     "name": "stdout",
     "output_type": "stream",
     "text": [
      "please enter a text:hlo\n"
     ]
    }
   ],
   "source": [
    "user = input(\"please enter a text:\")\n",
    "\n",
    "file = open(\"function.txt\" ,\"w\")\n",
    "\n",
    "file.write(user)\n",
    "file.close()\n"
   ]
  },
  {
   "cell_type": "code",
   "execution_count": 25,
   "id": "2ca9ca39",
   "metadata": {},
   "outputs": [
    {
     "name": "stdout",
     "output_type": "stream",
     "text": [
      "hlo\n"
     ]
    }
   ],
   "source": [
    "file = open(\"function.txt\" ,\"r\")\n",
    "stored = file.read()\n",
    "print(stored)\n",
    "file.close()\n"
   ]
  },
  {
   "cell_type": "code",
   "execution_count": 26,
   "id": "ee750592",
   "metadata": {},
   "outputs": [],
   "source": [
    "with open(\"veg.txt\",\"w\") as file:\n",
    "    file.write(\"alu\\n\")\n",
    "    file.write('gobi')"
   ]
  },
  {
   "cell_type": "code",
   "execution_count": 27,
   "id": "a990cf48",
   "metadata": {},
   "outputs": [
    {
     "name": "stdout",
     "output_type": "stream",
     "text": [
      "alu\n",
      "gobi\n"
     ]
    }
   ],
   "source": [
    "with open(\"veg.txt\",\"r\") as file:\n",
    "    print(file.read())"
   ]
  },
  {
   "cell_type": "code",
   "execution_count": 28,
   "id": "0e6bc2f0",
   "metadata": {},
   "outputs": [],
   "source": [
    "veg = ['alu\\n', 'matar\\n', 'gobi']"
   ]
  },
  {
   "cell_type": "code",
   "execution_count": 29,
   "id": "b50d7f39",
   "metadata": {},
   "outputs": [],
   "source": [
    "with open(\"veg.txt\",\"w\") as file:\n",
    "    for v in veg:\n",
    "        file.write(v)"
   ]
  },
  {
   "cell_type": "code",
   "execution_count": 30,
   "id": "c248b346",
   "metadata": {},
   "outputs": [
    {
     "name": "stdout",
     "output_type": "stream",
     "text": [
      "alu\n",
      "matar\n",
      "gobi\n"
     ]
    }
   ],
   "source": [
    "with open(\"veg.txt\",\"r\") as file:\n",
    "    print(file.read())"
   ]
  },
  {
   "cell_type": "code",
   "execution_count": 10,
   "id": "febec21b",
   "metadata": {},
   "outputs": [],
   "source": [
    "def find_grade(perc):\n",
    "    if(perc>80):\n",
    "        grade =\"A\"\n",
    "    elif(perc>70):\n",
    "        grade=\"B\"\n",
    "    elif(perc>60):\n",
    "        grade=\"c\"\n",
    "    elif(perc>50):\n",
    "        grade=\"D\"\n",
    "    elif(perc>40):\n",
    "        grade=\"E\"\n",
    "    else:\n",
    "        ('enter a right information')\n",
    "    return grade      \n",
    "            \n",
    "    \n"
   ]
  },
  {
   "cell_type": "code",
   "execution_count": 11,
   "id": "b26517d6",
   "metadata": {},
   "outputs": [
    {
     "name": "stdout",
     "output_type": "stream",
     "text": [
      "please enter your name:aqsa\n",
      "please enter your percentage77\n",
      "B\n"
     ]
    }
   ],
   "source": [
    "name = input(\"please enter your name:\")\n",
    "perc = int(input(\"please enter your percentage\"))\n",
    "p = find_grade(perc)\n",
    "print(p)"
   ]
  },
  {
   "cell_type": "code",
   "execution_count": 40,
   "id": "4b2b308e",
   "metadata": {},
   "outputs": [],
   "source": [
    "items=['lipstick\\n', 'linar\\n', 'maskara\\n', 'blush\\n', 'base']"
   ]
  },
  {
   "cell_type": "code",
   "execution_count": 41,
   "id": "878d8fb5",
   "metadata": {},
   "outputs": [],
   "source": [
    "with open('items.txt','w') as makeup:\n",
    "    for n in items:\n",
    "        makeup.write(n)\n",
    "    "
   ]
  },
  {
   "cell_type": "code",
   "execution_count": 42,
   "id": "6b23dabe",
   "metadata": {},
   "outputs": [
    {
     "name": "stdout",
     "output_type": "stream",
     "text": [
      "lipstick\n",
      "linar\n",
      "maskara\n",
      "blush\n",
      "base\n"
     ]
    }
   ],
   "source": [
    "with open('items.txt','r') as makeup:\n",
    "    print(makeup.read())"
   ]
  },
  {
   "cell_type": "code",
   "execution_count": null,
   "id": "af628e5c",
   "metadata": {},
   "outputs": [],
   "source": []
  }
 ],
 "metadata": {
  "kernelspec": {
   "display_name": "Python 3 (ipykernel)",
   "language": "python",
   "name": "python3"
  },
  "language_info": {
   "codemirror_mode": {
    "name": "ipython",
    "version": 3
   },
   "file_extension": ".py",
   "mimetype": "text/x-python",
   "name": "python",
   "nbconvert_exporter": "python",
   "pygments_lexer": "ipython3",
   "version": "3.11.3"
  }
 },
 "nbformat": 4,
 "nbformat_minor": 5
}
