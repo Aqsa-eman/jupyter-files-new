{
 "cells": [
  {
   "cell_type": "code",
   "execution_count": 10,
   "id": "ce270e5e",
   "metadata": {},
   "outputs": [],
   "source": [
    "myfile = open(\"dexplorex.txt\",\"w\") #file reading"
   ]
  },
  {
   "cell_type": "code",
   "execution_count": 11,
   "id": "e6aafaa7",
   "metadata": {},
   "outputs": [],
   "source": [
    "myfile.write('helo im aqsa eman im a new user')\n",
    "myfile.close()"
   ]
  },
  {
   "cell_type": "code",
   "execution_count": 14,
   "id": "5dffda36",
   "metadata": {},
   "outputs": [
    {
     "data": {
      "text/plain": [
       "'helo im aqsa eman im a new user'"
      ]
     },
     "execution_count": 14,
     "metadata": {},
     "output_type": "execute_result"
    }
   ],
   "source": [
    "other = open('dexplorex.txt','r')\n",
    "a = other.read()\n",
    "a"
   ]
  },
  {
   "cell_type": "code",
   "execution_count": null,
   "id": "9c6e912e",
   "metadata": {},
   "outputs": [],
   "source": []
  },
  {
   "cell_type": "code",
   "execution_count": 15,
   "id": "a5d47c2f",
   "metadata": {},
   "outputs": [],
   "source": [
    "contex = open(\"jupyt.txt\",'w')"
   ]
  },
  {
   "cell_type": "code",
   "execution_count": null,
   "id": "64b7fe9f",
   "metadata": {},
   "outputs": [],
   "source": [
    "\n",
    "contex.write(\"Hello python!\\n\")\n",
    "contex.write(\"this is a simple text writing! \\n\")\n",
    "contex.write(\"i am a python programmer.\")\n",
    "contex.close()"
   ]
  },
  {
   "cell_type": "code",
   "execution_count": 11,
   "id": "11f59f03",
   "metadata": {},
   "outputs": [],
   "source": [
    "#user_input = input(\"please enter a text:\")"
   ]
  },
  {
   "cell_type": "code",
   "execution_count": 15,
   "id": "662451d9",
   "metadata": {
    "scrolled": true
   },
   "outputs": [
    {
     "name": "stdout",
     "output_type": "stream",
     "text": [
      "please enter a text:hello python i am a new user of a python program\n"
     ]
    }
   ],
   "source": [
    "user = input(\"please enter a text:\")\n",
    "\n",
    "file = open(\"function.txt\" ,\"w\")\n",
    "\n",
    "file.write(user)\n",
    "file.close()\n"
   ]
  },
  {
   "cell_type": "code",
   "execution_count": null,
   "id": "2ca9ca39",
   "metadata": {},
   "outputs": [],
   "source": []
  },
  {
   "cell_type": "code",
   "execution_count": null,
   "id": "ee750592",
   "metadata": {},
   "outputs": [],
   "source": []
  }
 ],
 "metadata": {
  "kernelspec": {
   "display_name": "Python 3 (ipykernel)",
   "language": "python",
   "name": "python3"
  },
  "language_info": {
   "codemirror_mode": {
    "name": "ipython",
    "version": 3
   },
   "file_extension": ".py",
   "mimetype": "text/x-python",
   "name": "python",
   "nbconvert_exporter": "python",
   "pygments_lexer": "ipython3",
   "version": "3.11.3"
  }
 },
 "nbformat": 4,
 "nbformat_minor": 5
}
