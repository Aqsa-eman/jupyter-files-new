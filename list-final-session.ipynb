{
 "cells": [
  {
   "cell_type": "code",
   "execution_count": null,
   "id": "9fa15643",
   "metadata": {},
   "outputs": [],
   "source": [
    "#welcome to list session"
   ]
  },
  {
   "cell_type": "code",
   "execution_count": 4,
   "id": "012ba73f",
   "metadata": {},
   "outputs": [],
   "source": [
    "names = ['ali', 'ahmad', 'zoha', 'qasim', 'aqsa','sara', 'kashaf', 'nisha']"
   ]
  },
  {
   "cell_type": "code",
   "execution_count": 5,
   "id": "c7ff8ff9",
   "metadata": {},
   "outputs": [],
   "source": [
    "names.sort()"
   ]
  },
  {
   "cell_type": "code",
   "execution_count": 6,
   "id": "eed9032a",
   "metadata": {},
   "outputs": [
    {
     "data": {
      "text/plain": [
       "['ahmad', 'ali', 'aqsa', 'kashaf', 'nisha', 'qasim', 'sara', 'zoha']"
      ]
     },
     "execution_count": 6,
     "metadata": {},
     "output_type": "execute_result"
    }
   ],
   "source": [
    "names"
   ]
  },
  {
   "cell_type": "code",
   "execution_count": 7,
   "id": "7b9fc03e",
   "metadata": {},
   "outputs": [],
   "source": [
    "age = [25,34,45,12,14,78,24,57]"
   ]
  },
  {
   "cell_type": "code",
   "execution_count": null,
   "id": "494137ea",
   "metadata": {},
   "outputs": [],
   "source": [
    "age.sort()\n",
    "age"
   ]
  },
  {
   "cell_type": "code",
   "execution_count": 5,
   "id": "da08f4c1",
   "metadata": {},
   "outputs": [],
   "source": [
    "guest = []\n",
    "name = ''"
   ]
  },
  {
   "cell_type": "code",
   "execution_count": 6,
   "id": "65587deb",
   "metadata": {},
   "outputs": [
    {
     "name": "stdout",
     "output_type": "stream",
     "text": [
      "plz enter a party member name if no an`y guest left then enter done:ali\n",
      "plz enter a party member name if no an`y guest left then enter done:ahmad\n",
      "plz enter a party member name if no an`y guest left then enter done:namr\n",
      "plz enter a party member name if no an`y guest left then enter done:done\n",
      "ahmad\n",
      "ali\n",
      "done\n",
      "namr\n"
     ]
    }
   ],
   "source": [
    "while name != 'done':\n",
    "    name= input('plz enter a party member name if no an`y guest left then enter done:')\n",
    "    guest.append(name)\n",
    "    \n",
    "guest.sort()\n",
    "for n in guest:\n",
    "    print(n)\n",
    "    "
   ]
  },
  {
   "cell_type": "code",
   "execution_count": null,
   "id": "57c619e9",
   "metadata": {},
   "outputs": [
    {
     "name": "stdout",
     "output_type": "stream",
     "text": [
      "plz enter a party member name if no an`y guest left then enter done:aqsa\n",
      "plz enter a party member name if no an`y guest left then enter done:adeel\n",
      "plz enter a party member name if no an`y guest left then enter done:saba\n",
      "plz enter a party member name if no an`y guest left then enter done:tasmiya\n",
      "plz enter a party member name if no an`y guest left then enter done:khadiya\n",
      "plz enter a party member name if no an`y guest left then enter done:bajo\n",
      "plz enter a party member name if no an`y guest left then enter done:moiza\n",
      "plz enter a party member name if no an`y guest left then enter done:tuba\n"
     ]
    }
   ],
   "source": [
    "guest = []\n",
    "name = ''\n",
    "\n",
    "while name != 'done':\n",
    "    name= input('plz enter a party member name if no an`y guest left then enter done:')\n",
    "    if(name.upper() !='done'):\n",
    "        guest.append(name)\n",
    "    \n",
    "guest.sort()\n",
    "for n in guest:\n",
    "    print(n)"
   ]
  },
  {
   "cell_type": "code",
   "execution_count": null,
   "id": "188531ae",
   "metadata": {},
   "outputs": [],
   "source": []
  }
 ],
 "metadata": {
  "kernelspec": {
   "display_name": "Python 3 (ipykernel)",
   "language": "python",
   "name": "python3"
  },
  "language_info": {
   "codemirror_mode": {
    "name": "ipython",
    "version": 3
   },
   "file_extension": ".py",
   "mimetype": "text/x-python",
   "name": "python",
   "nbconvert_exporter": "python",
   "pygments_lexer": "ipython3",
   "version": "3.11.3"
  }
 },
 "nbformat": 4,
 "nbformat_minor": 5
}
