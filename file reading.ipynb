{
 "cells": [
  {
   "cell_type": "code",
   "execution_count": 10,
   "id": "ce270e5e",
   "metadata": {},
   "outputs": [],
   "source": [
    "myfile = open(\"dexplorex.txt\",\"w\") #file reading"
   ]
  },
  {
   "cell_type": "code",
   "execution_count": 11,
   "id": "e6aafaa7",
   "metadata": {},
   "outputs": [],
   "source": [
    "myfile.write('helo im aqsa eman im a new user')\n",
    "myfile.close()"
   ]
  },
  {
   "cell_type": "code",
   "execution_count": 14,
   "id": "5dffda36",
   "metadata": {},
   "outputs": [
    {
     "data": {
      "text/plain": [
       "'helo im aqsa eman im a new user'"
      ]
     },
     "execution_count": 14,
     "metadata": {},
     "output_type": "execute_result"
    }
   ],
   "source": [
    "other = open('dexplorex.txt','r')\n",
    "a = other.read()\n",
    "a"
   ]
  },
  {
   "cell_type": "code",
   "execution_count": null,
   "id": "9c6e912e",
   "metadata": {},
   "outputs": [],
   "source": []
  }
 ],
 "metadata": {
  "kernelspec": {
   "display_name": "Python 3 (ipykernel)",
   "language": "python",
   "name": "python3"
  },
  "language_info": {
   "codemirror_mode": {
    "name": "ipython",
    "version": 3
   },
   "file_extension": ".py",
   "mimetype": "text/x-python",
   "name": "python",
   "nbconvert_exporter": "python",
   "pygments_lexer": "ipython3",
   "version": "3.11.3"
  }
 },
 "nbformat": 4,
 "nbformat_minor": 5
}
