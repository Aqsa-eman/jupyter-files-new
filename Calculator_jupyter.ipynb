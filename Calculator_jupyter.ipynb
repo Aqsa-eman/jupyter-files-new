{
 "cells": [
  {
   "cell_type": "code",
   "execution_count": null,
   "id": "4e4f9657",
   "metadata": {},
   "outputs": [
    {
     "name": "stdout",
     "output_type": "stream",
     "text": [
      "please enter a first number:1\n",
      "please enter a second number:2\n"
     ]
    }
   ],
   "source": [
    "a = int(input('please enter a first number:'))\n",
    "b = int(input('please enter a second number:'))\n",
    "choice = input('press 1 for adding,2 for subtraction,3 for multiplication,4 for division: \\n')\n",
    "\n",
    "if(choice == 1):\n",
    "    res = a + b\n",
    "    print('your sum is:',res)\n",
    "elif(choice == 2):\n",
    "    res = a - b\n",
    "    print('your sub is',res)\n",
    "elif(choice == 3):\n",
    "    res = a * b\n",
    "    print('your multi is',res)  \n",
    "elif(choice == 4):\n",
    "    res = a / b\n",
    "    print('your divide is',res) \n",
    "else:\n",
    "    print('please enter a correct value')\n",
    "    "
   ]
  },
  {
   "cell_type": "code",
   "execution_count": null,
   "id": "fe029aab",
   "metadata": {},
   "outputs": [],
   "source": []
  },
  {
   "cell_type": "code",
   "execution_count": null,
   "id": "d8143220",
   "metadata": {},
   "outputs": [],
   "source": []
  }
 ],
 "metadata": {
  "kernelspec": {
   "display_name": "Python 3 (ipykernel)",
   "language": "python",
   "name": "python3"
  },
  "language_info": {
   "codemirror_mode": {
    "name": "ipython",
    "version": 3
   },
   "file_extension": ".py",
   "mimetype": "text/x-python",
   "name": "python",
   "nbconvert_exporter": "python",
   "pygments_lexer": "ipython3",
   "version": "3.11.3"
  }
 },
 "nbformat": 4,
 "nbformat_minor": 5
}
