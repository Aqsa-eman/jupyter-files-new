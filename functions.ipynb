{
 "cells": [
  {
   "cell_type": "code",
   "execution_count": 3,
   "id": "4fbee18d",
   "metadata": {},
   "outputs": [],
   "source": [
    "def dex_func():   #decleration of a function\n",
    "    print('welcome to d explorex')  "
   ]
  },
  {
   "cell_type": "code",
   "execution_count": 4,
   "id": "5afadb13",
   "metadata": {},
   "outputs": [
    {
     "name": "stdout",
     "output_type": "stream",
     "text": [
      "welcome to d explorex\n"
     ]
    }
   ],
   "source": [
    "dex_func()         # calling"
   ]
  },
  {
   "cell_type": "code",
   "execution_count": 5,
   "id": "1e5f0f37",
   "metadata": {},
   "outputs": [
    {
     "name": "stdout",
     "output_type": "stream",
     "text": [
      "welcome to d explorex\n",
      "welcome to d explorex\n",
      "welcome to d explorex\n",
      "welcome to d explorex\n",
      "welcome to d explorex\n",
      "welcome to d explorex\n",
      "welcome to d explorex\n",
      "welcome to d explorex\n",
      "welcome to d explorex\n",
      "welcome to d explorex\n"
     ]
    }
   ],
   "source": [
    "for i in range(10):\n",
    "    dex_func()"
   ]
  },
  {
   "cell_type": "code",
   "execution_count": 14,
   "id": "3dee3ba3",
   "metadata": {},
   "outputs": [],
   "source": [
    "def multi(n1,n2):\n",
    "    res = n1 * n2\n",
    "    print('multiply number is', res)"
   ]
  },
  {
   "cell_type": "code",
   "execution_count": 15,
   "id": "eda1468c",
   "metadata": {},
   "outputs": [
    {
     "name": "stdout",
     "output_type": "stream",
     "text": [
      "multiply number is 12\n"
     ]
    }
   ],
   "source": [
    "multi(4,3)"
   ]
  },
  {
   "cell_type": "code",
   "execution_count": 16,
   "id": "09c17058",
   "metadata": {},
   "outputs": [],
   "source": [
    "def greet(msg):\n",
    "    print(msg)"
   ]
  },
  {
   "cell_type": "code",
   "execution_count": 17,
   "id": "b48a99ab",
   "metadata": {},
   "outputs": [
    {
     "name": "stdout",
     "output_type": "stream",
     "text": [
      " im a python user\n"
     ]
    }
   ],
   "source": [
    "greet(' im a python user')"
   ]
  },
  {
   "cell_type": "code",
   "execution_count": null,
   "id": "15e92db2",
   "metadata": {},
   "outputs": [],
   "source": [
    "def sum(a,b):\n",
    "    "
   ]
  },
  {
   "cell_type": "code",
   "execution_count": null,
   "id": "07d67444",
   "metadata": {},
   "outputs": [],
   "source": []
  }
 ],
 "metadata": {
  "kernelspec": {
   "display_name": "Python 3 (ipykernel)",
   "language": "python",
   "name": "python3"
  },
  "language_info": {
   "codemirror_mode": {
    "name": "ipython",
    "version": 3
   },
   "file_extension": ".py",
   "mimetype": "text/x-python",
   "name": "python",
   "nbconvert_exporter": "python",
   "pygments_lexer": "ipython3",
   "version": "3.11.3"
  }
 },
 "nbformat": 4,
 "nbformat_minor": 5
}
